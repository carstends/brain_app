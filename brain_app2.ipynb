{
 "cells": [
  {
   "cell_type": "code",
   "execution_count": null,
   "id": "conditional-sixth",
   "metadata": {},
   "outputs": [],
   "source": [
    "from fastbook import *\n",
    "\n",
    "from fastai.callback.hook import summary\n",
    "from fastai.callback.progress import ProgressCallback\n",
    "from fastai.callback.schedule import lr_find, fit_flat_cos\n",
    "\n",
    "from fastai.data.block import DataBlock\n",
    "from fastai.data.external import untar_data, URLs\n",
    "from fastai.data.transforms import get_image_files, FuncSplitter, Normalize\n",
    "\n",
    "from fastai.layers import Mish\n",
    "from fastai.losses import BaseLoss\n",
    "from fastai.optimizer import ranger\n",
    "from fastai.metrics import Dice, JaccardCoeff\n",
    "\n",
    "from fastai.torch_core import tensor\n",
    "\n",
    "from fastai.vision.augment import aug_transforms\n",
    "from fastai.vision.core import PILImage, PILMask\n",
    "from fastai.vision.data import ImageBlock, MaskBlock, imagenet_stats\n",
    "from fastai.vision.learner import unet_learner\n",
    "\n",
    "from fastai.vision import *\n",
    "\n",
    "from fastai.callback.hook import *\n",
    "\n",
    "from fastai2.vision.widgets import *"
   ]
  },
  {
   "cell_type": "code",
   "execution_count": null,
   "id": "clear-subcommittee",
   "metadata": {},
   "outputs": [],
   "source": [
    "path = Path()\n",
    "br_learner = load_learner(path/'model_101.pkl') #cpu=True"
   ]
  },
  {
   "cell_type": "code",
   "execution_count": null,
   "id": "aggregate-explanation",
   "metadata": {},
   "outputs": [],
   "source": [
    "btn_upload = widgets.FileUpload()\n",
    "out_pl = widgets.Output()\n",
    "lbl_pred = widgets.Label()"
   ]
  },
  {
   "cell_type": "code",
   "execution_count": null,
   "id": "lined-teens",
   "metadata": {},
   "outputs": [],
   "source": [
    "def on_click(change):\n",
    "    img = PILImage.create(btn_upload.data[-1])\n",
    "    out_pl.clear_output()\n",
    "    with out_pl: display(img.to_thumb(128,128))\n",
    "    pred,pred_idx,probs = learn_inf.predict(img)\n",
    "    lbl_pred.value = f'Prediction: {pred}; Probability: {probs[pred_idx]:.04f}'"
   ]
  },
  {
   "cell_type": "code",
   "execution_count": null,
   "id": "different-outdoors",
   "metadata": {},
   "outputs": [],
   "source": [
    "btn_upload.observe(on_click, names=['data'])"
   ]
  },
  {
   "cell_type": "code",
   "execution_count": null,
   "id": "possible-disney",
   "metadata": {},
   "outputs": [],
   "source": [
    "display(VBox([widgets.Label('Select a photo!'), btn_upload, out_pl, lbl_pred]))"
   ]
  }
 ],
 "metadata": {
  "kernelspec": {
   "display_name": "Python 3",
   "language": "python",
   "name": "python3"
  },
  "language_info": {
   "codemirror_mode": {
    "name": "ipython",
    "version": 3
   },
   "file_extension": ".py",
   "mimetype": "text/x-python",
   "name": "python",
   "nbconvert_exporter": "python",
   "pygments_lexer": "ipython3",
   "version": "3.9.0"
  }
 },
 "nbformat": 4,
 "nbformat_minor": 5
}
